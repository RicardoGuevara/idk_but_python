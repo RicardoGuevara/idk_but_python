{
 "cells": [
  {
   "cell_type": "code",
   "execution_count": 1,
   "metadata": {},
   "outputs": [],
   "source": [
    "from __future__ import division\n",
    "import itertools\n",
    "import re\n",
    "import hashlib"
   ]
  },
  {
   "cell_type": "code",
   "execution_count": 2,
   "metadata": {},
   "outputs": [],
   "source": [
    "# a shingle in this code is a string with K-words\n",
    "K = 4\n"
   ]
  },
  {
   "cell_type": "code",
   "execution_count": 3,
   "metadata": {},
   "outputs": [],
   "source": [
    "def jaccard_set(s1, s2):\n",
    "    \" takes two sets and returns Jaccard coefficient\"\n",
    "    u = s1.union(s2)\n",
    "    i = s1.intersection(s2)\n",
    "    return len(i)/len(u)"
   ]
  },
  {
   "cell_type": "code",
   "execution_count": 4,
   "metadata": {},
   "outputs": [],
   "source": [
    "def make_a_set_of_tokens(doc):\n",
    "    \"\"\"makes a set of K-tokens\"\"\"\n",
    "\n",
    "    # replace non-alphanumeric char with a space, and then split\n",
    "    tokens = re.sub(\"[^\\w]\", \" \",  doc).split()\n",
    "\n",
    "    sh = set()\n",
    "    for i in range(len(tokens)-K):\n",
    "        t = tokens[i]\n",
    "        for x in tokens[i+1:i+K]:\n",
    "            t += ' ' + x \n",
    "        sh.add(t)\n",
    "    return sh"
   ]
  },
  {
   "cell_type": "code",
   "execution_count": 5,
   "metadata": {},
   "outputs": [
    {
     "name": "stdout",
     "output_type": "stream",
     "text": [
      "sh = %s\n"
     ]
    },
    {
     "ename": "TypeError",
     "evalue": "unsupported operand type(s) for %: 'NoneType' and 'set'",
     "output_type": "error",
     "traceback": [
      "\u001b[1;31m---------------------------------------------------------------------------\u001b[0m",
      "\u001b[1;31mTypeError\u001b[0m                                 Traceback (most recent call last)",
      "\u001b[1;32m<ipython-input-5-3996822a59bb>\u001b[0m in \u001b[0;36m<module>\u001b[1;34m\u001b[0m\n\u001b[0;32m     12\u001b[0m         \u001b[1;31m# sh = set([' ', ..., ' '])\u001b[0m\u001b[1;33m\u001b[0m\u001b[1;33m\u001b[0m\u001b[1;33m\u001b[0m\u001b[0m\n\u001b[0;32m     13\u001b[0m         \u001b[0msh\u001b[0m \u001b[1;33m=\u001b[0m \u001b[0mmake_a_set_of_tokens\u001b[0m\u001b[1;33m(\u001b[0m\u001b[0mdoc\u001b[0m\u001b[1;33m)\u001b[0m\u001b[1;33m\u001b[0m\u001b[1;33m\u001b[0m\u001b[0m\n\u001b[1;32m---> 14\u001b[1;33m         \u001b[0mprint\u001b[0m\u001b[1;33m(\u001b[0m\u001b[1;34m\"sh = %s\"\u001b[0m\u001b[1;33m)\u001b[0m \u001b[1;33m%\u001b[0m\u001b[1;33m(\u001b[0m\u001b[0msh\u001b[0m\u001b[1;33m)\u001b[0m\u001b[1;33m\u001b[0m\u001b[1;33m\u001b[0m\u001b[0m\n\u001b[0m\u001b[0;32m     15\u001b[0m \u001b[1;33m\u001b[0m\u001b[0m\n\u001b[0;32m     16\u001b[0m         \u001b[1;31m# hasing\u001b[0m\u001b[1;33m\u001b[0m\u001b[1;33m\u001b[0m\u001b[1;33m\u001b[0m\u001b[0m\n",
      "\u001b[1;31mTypeError\u001b[0m: unsupported operand type(s) for %: 'NoneType' and 'set'"
     ]
    }
   ],
   "source": [
    "if __name__ == '__main__':\n",
    "\n",
    "    documents = [\"The legal system is made up of civil courts, criminal courts and specialty courts such as family law courts and bankruptcy court. Each court has its own jurisdiction, which refers to the cases that the court is allowed to hear. In some instances, a case can only be heard in one type of court. For example, a bankruptcy case must be heard in a bankruptcy court. In other instances, there may be several potential courts with jurisdiction. For example, a federal criminal court and a state criminal court would each have jurisdiction over a crime that is a federal drug offense but that is also an offense on the state level.\",\n",
    "      \"The legal system is comprised of criminal and civil courts and specialty courts like bankruptcy and family law courts. Every one of the courts is vested with its own jurisdiction. Jurisdiction means the types of cases each court is permitted to rule on. Sometimes, only one type of court can hear a particular case. For instance, bankruptcy cases an be ruled on only in bankruptcy court. In other situations, it is possible for more than one court to have jurisdiction. For instance, both a state and federal criminal court could have authority over a criminal case that is illegal under federal and state drug laws.\",\n",
    "      \"In many jurisdictions the judicial branch has the power to change laws through the process of judicial review. Courts with judicial review power may annul the laws and rules of the state when it finds them incompatible with a higher norm, such as primary legislation, the provisions of the constitution or international law. Judges constitute a critical force for interpretation and implementation of a constitution, thus de facto in common law countries creating the body of constitutional law.\"]\n",
    "  \n",
    "    shingles = []\n",
    "    # handle documents one by one\n",
    "    # makes a list of sets which are compresized of a list of K words string\n",
    "    for doc in documents:\n",
    "        # makes a set of tokens\n",
    "        # sh = set([' ', ..., ' '])\n",
    "        sh = make_a_set_of_tokens(doc)\n",
    "        print(\"sh = %s\") %(sh)\n",
    "\n",
    "        # hasing\n",
    "        bucket = map(hash, sh)\n",
    "\n",
    "        # print(\"bucket = %s\") %(bucket)\n",
    "        \n",
    "        # shingles : list of sets (sh)\n",
    "        shingles.append(set(bucket))\n",
    "\n",
    "    #print(\"shingles=%s\") %(shingles)\n",
    "    \n",
    "    combinations = list( itertools.combinations([x for x in range(len(shingles))], 2) )\n",
    "    print(\"combinations=%s\") %(combinations)\n",
    "\n",
    "    # compare each pair in combinations tuple of shingles\n",
    "    for c in combinations:\n",
    "        i1 = c[0]\n",
    "        i2 = c[1]\n",
    "        jac = jaccard_set(shingles[i1], shingles[i2])\n",
    "        print(\"%s : jaccard=%s\") %(c,jac)"
   ]
  },
  {
   "cell_type": "code",
   "execution_count": null,
   "metadata": {},
   "outputs": [],
   "source": []
  }
 ],
 "metadata": {
  "kernelspec": {
   "display_name": "Python 3",
   "language": "python",
   "name": "python3"
  },
  "language_info": {
   "codemirror_mode": {
    "name": "ipython",
    "version": 3
   },
   "file_extension": ".py",
   "mimetype": "text/x-python",
   "name": "python",
   "nbconvert_exporter": "python",
   "pygments_lexer": "ipython3",
   "version": "3.7.1"
  }
 },
 "nbformat": 4,
 "nbformat_minor": 2
}
